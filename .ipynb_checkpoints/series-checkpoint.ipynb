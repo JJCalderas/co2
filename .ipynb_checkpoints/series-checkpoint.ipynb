{
 "cells": [
  {
   "cell_type": "markdown",
   "metadata": {},
   "source": [
    "#### \n",
    "https://github.com/gerolaleticia/Pyrentena-a-dataset-per-week/blob/master/Semana%203%20%20-%20Dataset%20CO2/Pyrentena%20semana%203%20-%20CO2.ipynb\n",
    "\n",
    "Machine Learning model for CO2 emisssion"
   ]
  },
  {
   "cell_type": "code",
   "execution_count": 122,
   "metadata": {},
   "outputs": [
    {
     "data": {
      "text/html": [
       "<div>\n",
       "<style scoped>\n",
       "    .dataframe tbody tr th:only-of-type {\n",
       "        vertical-align: middle;\n",
       "    }\n",
       "\n",
       "    .dataframe tbody tr th {\n",
       "        vertical-align: top;\n",
       "    }\n",
       "\n",
       "    .dataframe thead th {\n",
       "        text-align: right;\n",
       "    }\n",
       "</style>\n",
       "<table border=\"1\" class=\"dataframe\">\n",
       "  <thead>\n",
       "    <tr style=\"text-align: right;\">\n",
       "      <th></th>\n",
       "      <th>id</th>\n",
       "      <th>ppm</th>\n",
       "      <th>sensor</th>\n",
       "      <th>date_time</th>\n",
       "    </tr>\n",
       "  </thead>\n",
       "  <tbody>\n",
       "    <tr>\n",
       "      <th>0</th>\n",
       "      <td>1575986</td>\n",
       "      <td>324</td>\n",
       "      <td>3</td>\n",
       "      <td>2022-01-01 00:00:05</td>\n",
       "    </tr>\n",
       "    <tr>\n",
       "      <th>1</th>\n",
       "      <td>1575987</td>\n",
       "      <td>295</td>\n",
       "      <td>8</td>\n",
       "      <td>2022-01-01 00:00:07</td>\n",
       "    </tr>\n",
       "    <tr>\n",
       "      <th>2</th>\n",
       "      <td>1575988</td>\n",
       "      <td>351</td>\n",
       "      <td>10</td>\n",
       "      <td>2022-01-01 00:00:14</td>\n",
       "    </tr>\n",
       "    <tr>\n",
       "      <th>3</th>\n",
       "      <td>1575989</td>\n",
       "      <td>325</td>\n",
       "      <td>3</td>\n",
       "      <td>2022-01-01 00:00:15</td>\n",
       "    </tr>\n",
       "    <tr>\n",
       "      <th>4</th>\n",
       "      <td>1575990</td>\n",
       "      <td>326</td>\n",
       "      <td>3</td>\n",
       "      <td>2022-01-01 00:00:25</td>\n",
       "    </tr>\n",
       "    <tr>\n",
       "      <th>...</th>\n",
       "      <td>...</td>\n",
       "      <td>...</td>\n",
       "      <td>...</td>\n",
       "      <td>...</td>\n",
       "    </tr>\n",
       "    <tr>\n",
       "      <th>1315819</th>\n",
       "      <td>2892631</td>\n",
       "      <td>351</td>\n",
       "      <td>9</td>\n",
       "      <td>2022-04-19 16:47:55</td>\n",
       "    </tr>\n",
       "    <tr>\n",
       "      <th>1315820</th>\n",
       "      <td>2892632</td>\n",
       "      <td>261</td>\n",
       "      <td>8</td>\n",
       "      <td>2022-04-19 16:47:58</td>\n",
       "    </tr>\n",
       "    <tr>\n",
       "      <th>1315821</th>\n",
       "      <td>2892633</td>\n",
       "      <td>405</td>\n",
       "      <td>10</td>\n",
       "      <td>2022-04-19 16:48:03</td>\n",
       "    </tr>\n",
       "    <tr>\n",
       "      <th>1315822</th>\n",
       "      <td>2892634</td>\n",
       "      <td>510</td>\n",
       "      <td>5</td>\n",
       "      <td>2022-04-19 16:48:07</td>\n",
       "    </tr>\n",
       "    <tr>\n",
       "      <th>1315823</th>\n",
       "      <td>2892635</td>\n",
       "      <td>354</td>\n",
       "      <td>9</td>\n",
       "      <td>2022-04-19 16:48:26</td>\n",
       "    </tr>\n",
       "  </tbody>\n",
       "</table>\n",
       "<p>1315824 rows × 4 columns</p>\n",
       "</div>"
      ],
      "text/plain": [
       "              id  ppm  sensor           date_time\n",
       "0        1575986  324       3 2022-01-01 00:00:05\n",
       "1        1575987  295       8 2022-01-01 00:00:07\n",
       "2        1575988  351      10 2022-01-01 00:00:14\n",
       "3        1575989  325       3 2022-01-01 00:00:15\n",
       "4        1575990  326       3 2022-01-01 00:00:25\n",
       "...          ...  ...     ...                 ...\n",
       "1315819  2892631  351       9 2022-04-19 16:47:55\n",
       "1315820  2892632  261       8 2022-04-19 16:47:58\n",
       "1315821  2892633  405      10 2022-04-19 16:48:03\n",
       "1315822  2892634  510       5 2022-04-19 16:48:07\n",
       "1315823  2892635  354       9 2022-04-19 16:48:26\n",
       "\n",
       "[1315824 rows x 4 columns]"
      ]
     },
     "execution_count": 122,
     "metadata": {},
     "output_type": "execute_result"
    }
   ],
   "source": [
    "#!pip3 install mysql-connector     \n",
    "\n",
    "import mysql.connector as sql\n",
    "import pandas as pd\n",
    "import seaborn as sns\n",
    "import matplotlib.pyplot as plt\n",
    "from sklearn import linear_model\n",
    "from sklearn.metrics import r2_score, mean_squared_error,mean_absolute_error\n",
    "from sklearn.model_selection import train_test_split\n",
    "import numpy as np\n",
    "\n",
    "db_connection = sql.connect(host='10.0.0.21', database='co2_dev', user='co2user', password='c1m4V.21')\n",
    "db_cursor = db_connection.cursor()\n",
    "#db_cursor.execute('select id, ppm1, ppm2, date  from datos where ppm2 <= 10 and ppm1 < 300') #ppm1 > 340 and ppm1 < 395') #order by id desc limit 100000;\n",
    "db_cursor.execute(\"select id, ppm1, ppm2, date  from datos where ppm2 <= 10 and ppm1 > 10 and ppm1 < 3000 and date >= '2022-01-01'\")\n",
    "table_rows = db_cursor.fetchall()\n",
    "\n",
    "df = pd.DataFrame(table_rows, columns=['id', 'ppm', 'sensor', 'date_time'])\n",
    "\n",
    "df"
   ]
  },
  {
   "cell_type": "code",
   "execution_count": 123,
   "metadata": {},
   "outputs": [
    {
     "data": {
      "text/html": [
       "<div>\n",
       "<style scoped>\n",
       "    .dataframe tbody tr th:only-of-type {\n",
       "        vertical-align: middle;\n",
       "    }\n",
       "\n",
       "    .dataframe tbody tr th {\n",
       "        vertical-align: top;\n",
       "    }\n",
       "\n",
       "    .dataframe thead th {\n",
       "        text-align: right;\n",
       "    }\n",
       "</style>\n",
       "<table border=\"1\" class=\"dataframe\">\n",
       "  <thead>\n",
       "    <tr style=\"text-align: right;\">\n",
       "      <th></th>\n",
       "      <th>id</th>\n",
       "      <th>ppm</th>\n",
       "      <th>sensor</th>\n",
       "    </tr>\n",
       "  </thead>\n",
       "  <tbody>\n",
       "    <tr>\n",
       "      <th>count</th>\n",
       "      <td>1,315,824.00</td>\n",
       "      <td>1,315,824.00</td>\n",
       "      <td>1,315,824.00</td>\n",
       "    </tr>\n",
       "    <tr>\n",
       "      <th>mean</th>\n",
       "      <td>2,234,101.98</td>\n",
       "      <td>404.47</td>\n",
       "      <td>7.50</td>\n",
       "    </tr>\n",
       "    <tr>\n",
       "      <th>std</th>\n",
       "      <td>380,073.50</td>\n",
       "      <td>151.58</td>\n",
       "      <td>2.09</td>\n",
       "    </tr>\n",
       "    <tr>\n",
       "      <th>min</th>\n",
       "      <td>1,575,986.00</td>\n",
       "      <td>72.00</td>\n",
       "      <td>3.00</td>\n",
       "    </tr>\n",
       "    <tr>\n",
       "      <th>25%</th>\n",
       "      <td>1,904,991.75</td>\n",
       "      <td>359.00</td>\n",
       "      <td>5.00</td>\n",
       "    </tr>\n",
       "    <tr>\n",
       "      <th>50%</th>\n",
       "      <td>2,233,949.50</td>\n",
       "      <td>375.00</td>\n",
       "      <td>8.00</td>\n",
       "    </tr>\n",
       "    <tr>\n",
       "      <th>75%</th>\n",
       "      <td>2,562,940.25</td>\n",
       "      <td>398.00</td>\n",
       "      <td>9.00</td>\n",
       "    </tr>\n",
       "    <tr>\n",
       "      <th>max</th>\n",
       "      <td>2,892,635.00</td>\n",
       "      <td>2,827.00</td>\n",
       "      <td>10.00</td>\n",
       "    </tr>\n",
       "  </tbody>\n",
       "</table>\n",
       "</div>"
      ],
      "text/plain": [
       "                 id           ppm        sensor\n",
       "count  1,315,824.00  1,315,824.00  1,315,824.00\n",
       "mean   2,234,101.98        404.47          7.50\n",
       "std      380,073.50        151.58          2.09\n",
       "min    1,575,986.00         72.00          3.00\n",
       "25%    1,904,991.75        359.00          5.00\n",
       "50%    2,233,949.50        375.00          8.00\n",
       "75%    2,562,940.25        398.00          9.00\n",
       "max    2,892,635.00      2,827.00         10.00"
      ]
     },
     "execution_count": 123,
     "metadata": {},
     "output_type": "execute_result"
    }
   ],
   "source": [
    "df.describe().applymap('{:,.2f}'.format) #.apply(\"{0:.5f}\".format)"
   ]
  },
  {
   "cell_type": "code",
   "execution_count": 124,
   "metadata": {},
   "outputs": [
    {
     "data": {
      "image/png": "[encoded data removed]",
      "text/plain": [
       "<Figure size 936x360 with 1 Axes>"
      ]
     },
     "metadata": {
      "needs_background": "light"
     },
     "output_type": "display_data"
    },
    {
     "name": "stdout",
     "output_type": "stream",
     "text": [
      "CPU times: user 51.6 s, sys: 394 ms, total: 52 s\n",
      "Wall time: 52.7 s\n"
     ]
    }
   ],
   "source": [
    "%%time\n",
    "plt.figure(figsize=(13,5)) \n",
    "sns.lineplot(x=df['ppm'], y=df['sensor']) \n",
    "plt.xlabel('PPM') \n",
    "plt.ylabel('Sensor') \n",
    "plt.show()"
   ]
  },
  {
   "cell_type": "code",
   "execution_count": 125,
   "metadata": {},
   "outputs": [],
   "source": [
    "r = pd.DataFrame([df['sensor'] == 10])"
   ]
  },
  {
   "cell_type": "code",
   "execution_count": 126,
   "metadata": {},
   "outputs": [
    {
     "data": {
      "text/plain": [
       "(1, 1315824)"
      ]
     },
     "execution_count": 126,
     "metadata": {},
     "output_type": "execute_result"
    }
   ],
   "source": [
    "r.shape"
   ]
  },
  {
   "cell_type": "code",
   "execution_count": 127,
   "metadata": {},
   "outputs": [
    {
     "data": {
      "image/png": "[encoded data removed]",
      "text/plain": [
       "<Figure size 432x288 with 1 Axes>"
      ]
     },
     "metadata": {
      "needs_background": "light"
     },
     "output_type": "display_data"
    }
   ],
   "source": [
    "plt.boxplot(df[['ppm']])\n",
    "plt.show()"
   ]
  },
  {
   "cell_type": "code",
   "execution_count": 128,
   "metadata": {},
   "outputs": [
    {
     "data": {
      "text/html": [
       "<div>\n",
       "<style scoped>\n",
       "    .dataframe tbody tr th:only-of-type {\n",
       "        vertical-align: middle;\n",
       "    }\n",
       "\n",
       "    .dataframe tbody tr th {\n",
       "        vertical-align: top;\n",
       "    }\n",
       "\n",
       "    .dataframe thead th {\n",
       "        text-align: right;\n",
       "    }\n",
       "</style>\n",
       "<table border=\"1\" class=\"dataframe\">\n",
       "  <thead>\n",
       "    <tr style=\"text-align: right;\">\n",
       "      <th></th>\n",
       "      <th>sensor</th>\n",
       "      <th>ppm</th>\n",
       "    </tr>\n",
       "  </thead>\n",
       "  <tbody>\n",
       "    <tr>\n",
       "      <th>sensor</th>\n",
       "      <td>1.000000</td>\n",
       "      <td>-0.098399</td>\n",
       "    </tr>\n",
       "    <tr>\n",
       "      <th>ppm</th>\n",
       "      <td>-0.098399</td>\n",
       "      <td>1.000000</td>\n",
       "    </tr>\n",
       "  </tbody>\n",
       "</table>\n",
       "</div>"
      ],
      "text/plain": [
       "          sensor       ppm\n",
       "sensor  1.000000 -0.098399\n",
       "ppm    -0.098399  1.000000"
      ]
     },
     "execution_count": 128,
     "metadata": {},
     "output_type": "execute_result"
    },
    {
     "data": {
      "text/plain": [
       "<Figure size 936x360 with 0 Axes>"
      ]
     },
     "metadata": {},
     "output_type": "display_data"
    }
   ],
   "source": [
    "plt.figure(figsize=(13,5))\n",
    "corr = df[['sensor','ppm']].corr()\n",
    "corr"
   ]
  },
  {
   "cell_type": "code",
   "execution_count": 129,
   "metadata": {},
   "outputs": [
    {
     "data": {
      "image/png": "[encoded data removed]",
      "text/plain": [
       "<Figure size 432x288 with 2 Axes>"
      ]
     },
     "metadata": {
      "needs_background": "light"
     },
     "output_type": "display_data"
    }
   ],
   "source": [
    "ax = sns.heatmap(corr, vmin=-1.5, vmax=1.5, center=0, cmap=sns.diverging_palette(20, 220, n=200),square=True)\n",
    "ax.set_xticklabels(ax.get_xticklabels(), rotation=45, horizontalalignment='right');"
   ]
  },
  {
   "cell_type": "code",
   "execution_count": 130,
   "metadata": {},
   "outputs": [],
   "source": [
    "# features into variables\n",
    "sensores = df[['sensor']]\n",
    "ppms = df[['ppm']]"
   ]
  },
  {
   "cell_type": "code",
   "execution_count": 131,
   "metadata": {},
   "outputs": [],
   "source": [
    "# spliting data in train and test with train_test_split\n",
    "sensor_treino, sensor_test, ppm_treino, ppm_test = train_test_split(sensores, ppms, test_size=0.2, random_state=42)"
   ]
  },
  {
   "cell_type": "code",
   "execution_count": 132,
   "metadata": {},
   "outputs": [
    {
     "data": {
      "image/png": "[encoded data removed]",
      "text/plain": [
       "<Figure size 432x288 with 1 Axes>"
      ]
     },
     "metadata": {
      "needs_background": "light"
     },
     "output_type": "display_data"
    }
   ],
   "source": [
    "# ploting the correlation between features\n",
    "plt.scatter(sensor_treino, ppm_treino, color='blue')\n",
    "plt.xlabel('sensor')\n",
    "plt.ylabel('ppm')\n",
    "plt.show()"
   ]
  },
  {
   "cell_type": "markdown",
   "metadata": {},
   "source": [
    "#### Creating the model with the train dataset"
   ]
  },
  {
   "cell_type": "code",
   "execution_count": 133,
   "metadata": {},
   "outputs": [],
   "source": [
    "# creating a linear regression model\n",
    "# LinearRegression is a method of sklearn\n",
    "modelo = linear_model.LinearRegression()"
   ]
  },
  {
   "cell_type": "code",
   "execution_count": 134,
   "metadata": {},
   "outputs": [
    {
     "data": {
      "text/plain": [
       "LinearRegression()"
      ]
     },
     "execution_count": 134,
     "metadata": {},
     "output_type": "execute_result"
    }
   ],
   "source": [
    "# linear regression formula: (Y = A + B.X)\n",
    "# training the model to obtain the values of A and B (always do it in the train dataset)\n",
    "modelo.fit(sensor_treino, ppm_treino)"
   ]
  },
  {
   "cell_type": "code",
   "execution_count": 135,
   "metadata": {},
   "outputs": [
    {
     "name": "stdout",
     "output_type": "stream",
     "text": [
      "(A) intercept: [457.98379378] | (B) inclination: [[-7.13147229]]\n"
     ]
    }
   ],
   "source": [
    "# exibiting the coeficients A and B that the model generated\n",
    "print(f'(A) intercept: {modelo.intercept_} | (B) inclination: {modelo.coef_}')"
   ]
  },
  {
   "cell_type": "code",
   "execution_count": 136,
   "metadata": {},
   "outputs": [
    {
     "data": {
      "image/png": "[encoded data removed]",
      "text/plain": [
       "<Figure size 432x288 with 1 Axes>"
      ]
     },
     "metadata": {
      "needs_background": "light"
     },
     "output_type": "display_data"
    }
   ],
   "source": [
    "# print linear regression line on our TRAIN dataset\n",
    "plt.scatter(sensor_treino, ppm_treino, color='blue')\n",
    "plt.plot(sensor_treino, modelo.coef_[0][0]*sensor_treino + modelo.intercept_[0], '-r') \n",
    "# LR formula: inclination(B) * engine_treino(X) + intercept(A)\n",
    "plt.ylabel('ppm')\n",
    "plt.xlabel('sensores')\n",
    "plt.show()"
   ]
  },
  {
   "cell_type": "code",
   "execution_count": 137,
   "metadata": {},
   "outputs": [
    {
     "data": {
      "text/plain": [
       "array([457.98379378])"
      ]
     },
     "execution_count": 137,
     "metadata": {},
     "output_type": "execute_result"
    }
   ],
   "source": [
    "modelo.intercept_"
   ]
  },
  {
   "cell_type": "code",
   "execution_count": 138,
   "metadata": {},
   "outputs": [
    {
     "data": {
      "image/png": "[encoded data removed]",
      "text/plain": [
       "<Figure size 432x288 with 1 Axes>"
      ]
     },
     "metadata": {
      "needs_background": "light"
     },
     "output_type": "display_data"
    }
   ],
   "source": [
    "superior = df[df['ppm'] >  modelo.coef_[0][0]*df['sensor'] + modelo.intercept_[0]]\n",
    "inferior = df[df['ppm'] < modelo.coef_[0][0]*df['sensor'] + modelo.intercept_[0]]\n",
    "\n",
    "plt.scatter(superior['sensor'], superior['ppm'] , color='green')\n",
    "plt.scatter(inferior['sensor'], inferior['ppm'] , color='blue')\n",
    "plt.plot(sensor_treino, modelo.coef_[0][0]*sensor_treino + modelo.intercept_[0], '-r') \n",
    "# LR formula: inclination(B) * engine_treino(X) + intercept(A)\n",
    "plt.ylabel('ppm')\n",
    "plt.xlabel('sensores')\n",
    "plt.show()"
   ]
  },
  {
   "cell_type": "code",
   "execution_count": 119,
   "metadata": {},
   "outputs": [
    {
     "data": {
      "text/plain": [
       "0         False\n",
       "1         False\n",
       "2         False\n",
       "3         False\n",
       "4         False\n",
       "          ...  \n",
       "641175    False\n",
       "641176    False\n",
       "641177    False\n",
       "641178    False\n",
       "641179    False\n",
       "Name: ppm, Length: 641180, dtype: bool"
      ]
     },
     "execution_count": 119,
     "metadata": {},
     "output_type": "execute_result"
    }
   ],
   "source": [
    "df['ppm'] > df['ppm'] + modelo.intercept_[0]"
   ]
  },
  {
   "cell_type": "markdown",
   "metadata": {},
   "source": [
    "#### Executing the model on the test dataset"
   ]
  },
  {
   "cell_type": "code",
   "execution_count": 120,
   "metadata": {},
   "outputs": [],
   "source": [
    "predictCO2 = modelo.predict(sensor_test)"
   ]
  },
  {
   "cell_type": "code",
   "execution_count": 121,
   "metadata": {},
   "outputs": [
    {
     "data": {
      "image/png": "[encoded data removed]",
      "text/plain": [
       "<Figure size 432x288 with 1 Axes>"
      ]
     },
     "metadata": {
      "needs_background": "light"
     },
     "output_type": "display_data"
    }
   ],
   "source": [
    "# print linear regression line on our TEST dataset\n",
    "plt.scatter(sensor_test, ppm_test, color='green')\n",
    "plt.plot(sensor_test, modelo.coef_[0][0]*sensor_test + modelo.intercept_[0], '-r')\n",
    "plt.ylabel('ppm')\n",
    "plt.xlabel('sensor')\n",
    "plt.show()"
   ]
  },
  {
   "cell_type": "markdown",
   "metadata": {},
   "source": [
    "#### Evaluating the model"
   ]
  },
  {
   "cell_type": "code",
   "execution_count": 138,
   "metadata": {},
   "outputs": [
    {
     "name": "stdout",
     "output_type": "stream",
     "text": [
      "Sum of squared error (SSE): ppm   11712932215.390\n",
      "dtype: float64\n",
      "Mean squared error (MSE): 20270.65577653844\n",
      "Mean absolute error (MAE): 59.33094312463419\n",
      "Sqrt of mean squared error (RMSE):  142.37505320995822\n",
      "R2-score: -180.32001331192336\n"
     ]
    }
   ],
   "source": [
    "# Showing metrics to check the acuracy of our model\n",
    "print(f'Sum of squared error (SSE): {np.sum((predictCO2 - ppm_test)**2)}') # SSE: sum all of the  residuals and square them. \n",
    "print(f'Mean squared error (MSE): {mean_squared_error(ppm_test, predictCO2)}') # MSE: avg of SSE\n",
    "print(f'Mean absolute error (MAE): {mean_absolute_error(ppm_test, predictCO2)}')\n",
    "print (f'Sqrt of mean squared error (RMSE):  {np.sqrt(mean_squared_error(ppm_test, predictCO2))}') # RMSE: sqrt of the MSE\n",
    "print(f'R2-score: {r2_score(predictCO2, ppm_test)}') # r2-score: explains the variance of the variable Y when it comes to X"
   ]
  },
  {
   "cell_type": "code",
   "execution_count": null,
   "metadata": {},
   "outputs": [],
   "source": []
  }
 ],
 "metadata": {
  "kernelspec": {
   "display_name": "Python 3",
   "language": "python",
   "name": "python3"
  },
  "language_info": {
   "codemirror_mode": {
    "name": "ipython",
    "version": 3
   },
   "file_extension": ".py",
   "mimetype": "text/x-python",
   "name": "python",
   "nbconvert_exporter": "python",
   "pygments_lexer": "ipython3",
   "version": "3.8.5"
  }
 },
 "nbformat": 4,
 "nbformat_minor": 4
}
